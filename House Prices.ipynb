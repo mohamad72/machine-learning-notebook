{
 "cells": [
  {
   "cell_type": "markdown",
   "metadata": {},
   "source": [
    "# define the project"
   ]
  },
  {
   "cell_type": "markdown",
   "metadata": {},
   "source": [
    "### define the project"
   ]
  },
  {
   "cell_type": "markdown",
   "metadata": {},
   "source": [
    "#### Goal\n",
    "\n",
    "It is your job to predict the sales price for each house. For each Id in the test set, you must predict the value of the SalePrice variable. \n",
    "\n",
    "#### Metric\n",
    "\n",
    "Submissions are evaluated on Root-Mean-Squared-Error (RMSE) between the logarithm of the predicted value and the logarithm of the observed sales price. (Taking logs means that errors in predicting expensive houses and cheap houses will affect the result equally.)"
   ]
  },
  {
   "cell_type": "markdown",
   "metadata": {},
   "source": [
    "### Data fields"
   ]
  },
  {
   "cell_type": "markdown",
   "metadata": {},
   "source": [
    "    SalePrice - the property's sale price in dollars. This is the target variable that you're trying to predict.\n",
    "    MSSubClass: The building class\n",
    "    MSZoning: The general zoning classification\n",
    "    LotFrontage: Linear feet of street connected to property\n",
    "    LotArea: Lot size in square feet\n",
    "    Street: Type of road access\n",
    "    Alley: Type of alley access\n",
    "    LotShape: General shape of property\n",
    "    LandContour: Flatness of the property\n",
    "    Utilities: Type of utilities available\n",
    "    LotConfig: Lot configuration\n",
    "    LandSlope: Slope of property\n",
    "    Neighborhood: Physical locations within Ames city limits\n",
    "    Condition1: Proximity to main road or railroad\n",
    "    Condition2: Proximity to main road or railroad (if a second is present)\n",
    "    BldgType: Type of dwelling\n",
    "    HouseStyle: Style of dwelling\n",
    "    OverallQual: Overall material and finish quality\n",
    "    OverallCond: Overall condition rating\n",
    "    YearBuilt: Original construction date\n",
    "    YearRemodAdd: Remodel date\n",
    "    RoofStyle: Type of roof\n",
    "    RoofMatl: Roof material\n",
    "    Exterior1st: Exterior covering on house\n",
    "    Exterior2nd: Exterior covering on house (if more than one material)\n",
    "    MasVnrType: Masonry veneer type\n",
    "    MasVnrArea: Masonry veneer area in square feet\n",
    "    ExterQual: Exterior material quality\n",
    "    ExterCond: Present condition of the material on the exterior\n",
    "    Foundation: Type of foundation\n",
    "    BsmtQual: Height of the basement\n",
    "    BsmtCond: General condition of the basement\n",
    "    BsmtExposure: Walkout or garden level basement walls\n",
    "    BsmtFinType1: Quality of basement finished area\n",
    "    BsmtFinSF1: Type 1 finished square feet\n",
    "    BsmtFinType2: Quality of second finished area (if present)\n",
    "    BsmtFinSF2: Type 2 finished square feet\n",
    "    BsmtUnfSF: Unfinished square feet of basement area\n",
    "    TotalBsmtSF: Total square feet of basement area\n",
    "    Heating: Type of heating\n",
    "    HeatingQC: Heating quality and condition\n",
    "    CentralAir: Central air conditioning\n",
    "    Electrical: Electrical system\n",
    "    1stFlrSF: First Floor square feet\n",
    "    2ndFlrSF: Second floor square feet\n",
    "    LowQualFinSF: Low quality finished square feet (all floors)\n",
    "    GrLivArea: Above grade (ground) living area square feet\n",
    "    BsmtFullBath: Basement full bathrooms\n",
    "    BsmtHalfBath: Basement half bathrooms\n",
    "    FullBath: Full bathrooms above grade\n",
    "    HalfBath: Half baths above grade\n",
    "    Bedroom: Number of bedrooms above basement level\n",
    "    Kitchen: Number of kitchens\n",
    "    KitchenQual: Kitchen quality\n",
    "    TotRmsAbvGrd: Total rooms above grade (does not include bathrooms)\n",
    "    Functional: Home functionality rating\n",
    "    Fireplaces: Number of fireplaces\n",
    "    FireplaceQu: Fireplace quality\n",
    "    GarageType: Garage location\n",
    "    GarageYrBlt: Year garage was built\n",
    "    GarageFinish: Interior finish of the garage\n",
    "    GarageCars: Size of garage in car capacity\n",
    "    GarageArea: Size of garage in square feet\n",
    "    GarageQual: Garage quality\n",
    "    GarageCond: Garage condition\n",
    "    PavedDrive: Paved driveway\n",
    "    WoodDeckSF: Wood deck area in square feet\n",
    "    OpenPorchSF: Open porch area in square feet\n",
    "    EnclosedPorch: Enclosed porch area in square feet\n",
    "    3SsnPorch: Three season porch area in square feet\n",
    "    ScreenPorch: Screen porch area in square feet\n",
    "    PoolArea: Pool area in square feet\n",
    "    PoolQC: Pool quality\n",
    "    Fence: Fence quality\n",
    "    MiscFeature: Miscellaneous feature not covered in other categories\n",
    "    MiscVal: Value of miscellaneous feature\n",
    "    MoSold: Month Sold\n",
    "    YrSold: Year Sold\n",
    "    SaleType: Type of sale\n",
    "    SaleCondition: Condition of sale\n"
   ]
  },
  {
   "cell_type": "markdown",
   "metadata": {},
   "source": [
    "# Start the project"
   ]
  },
  {
   "cell_type": "markdown",
   "metadata": {},
   "source": [
    "### load data"
   ]
  },
  {
   "cell_type": "code",
   "execution_count": null,
   "metadata": {},
   "outputs": [],
   "source": []
  },
  {
   "cell_type": "markdown",
   "metadata": {},
   "source": [
    "### One Hot Encoding"
   ]
  },
  {
   "cell_type": "code",
   "execution_count": null,
   "metadata": {},
   "outputs": [],
   "source": []
  },
  {
   "cell_type": "markdown",
   "metadata": {},
   "source": [
    "### feature engineering"
   ]
  },
  {
   "cell_type": "code",
   "execution_count": null,
   "metadata": {},
   "outputs": [],
   "source": []
  },
  {
   "cell_type": "markdown",
   "metadata": {},
   "source": [
    "### split data to three part"
   ]
  },
  {
   "cell_type": "code",
   "execution_count": null,
   "metadata": {},
   "outputs": [],
   "source": []
  },
  {
   "cell_type": "markdown",
   "metadata": {},
   "source": [
    "### Handling Missing Value"
   ]
  },
  {
   "cell_type": "code",
   "execution_count": null,
   "metadata": {},
   "outputs": [],
   "source": []
  },
  {
   "cell_type": "markdown",
   "metadata": {},
   "source": [
    "### choosing Model"
   ]
  },
  {
   "cell_type": "code",
   "execution_count": null,
   "metadata": {},
   "outputs": [],
   "source": []
  },
  {
   "cell_type": "markdown",
   "metadata": {},
   "source": [
    "### fitting data with Pipeline"
   ]
  },
  {
   "cell_type": "code",
   "execution_count": null,
   "metadata": {},
   "outputs": [],
   "source": []
  },
  {
   "cell_type": "markdown",
   "metadata": {},
   "source": [
    "### predicting data and get score for them"
   ]
  },
  {
   "cell_type": "code",
   "execution_count": null,
   "metadata": {},
   "outputs": [],
   "source": []
  },
  {
   "cell_type": "markdown",
   "metadata": {},
   "source": [
    "### plotting partial dependence plot for some features"
   ]
  },
  {
   "cell_type": "code",
   "execution_count": null,
   "metadata": {},
   "outputs": [],
   "source": []
  },
  {
   "cell_type": "markdown",
   "metadata": {},
   "source": [
    "### load test data and predict them"
   ]
  },
  {
   "cell_type": "code",
   "execution_count": null,
   "metadata": {},
   "outputs": [],
   "source": []
  },
  {
   "cell_type": "markdown",
   "metadata": {},
   "source": [
    "### export predicted data"
   ]
  },
  {
   "cell_type": "code",
   "execution_count": null,
   "metadata": {},
   "outputs": [],
   "source": []
  }
 ],
 "metadata": {
  "kernelspec": {
   "display_name": "Python 3",
   "language": "python",
   "name": "python3"
  },
  "language_info": {
   "codemirror_mode": {
    "name": "ipython",
    "version": 3
   },
   "file_extension": ".py",
   "mimetype": "text/x-python",
   "name": "python",
   "nbconvert_exporter": "python",
   "pygments_lexer": "ipython3",
   "version": "3.7.1"
  }
 },
 "nbformat": 4,
 "nbformat_minor": 2
}
